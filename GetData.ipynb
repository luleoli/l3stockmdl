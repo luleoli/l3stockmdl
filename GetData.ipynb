{
 "cells": [
  {
   "cell_type": "code",
   "execution_count": 54,
   "metadata": {},
   "outputs": [],
   "source": [
    "### Create a function that get data from api\n",
    "\n",
    "import requests\n",
    "import pandas as pd\n",
    "\n",
    "ticker = 'PETR4.SA.SAO'\n",
    "\n",
    "url = f'https://www.alphavantage.co/query?function=TIME_SERIES_DAILY&symbol={ticker}&apikey=8JDWE75B6RS73XYH'\n",
    "data = requests.get(url).json()\n",
    "\n",
    "time_series = data['Time Series (Daily)']\n",
    "meta_data = data['Meta Data']\n",
    "\n",
    "data, open_price, high, low, close, volume, stock, date_refreshed = [], [], [], [], [], [], [], []\n",
    "\n",
    "for date in time_series.keys():\n",
    "    data.append(date)\n",
    "    open_price.append(time_series[date]['1. open'])\n",
    "    high.append(time_series[date]['2. high'])\n",
    "    low.append(time_series[date]['3. low'])\n",
    "    close.append(time_series[date]['4. close'])\n",
    "    volume.append(time_series[date]['5. volume'])\n",
    "    stock.append(meta_data['2. Symbol'][:5])\n",
    "    date_refreshed.append(meta_data['3. Last Refreshed'])\n",
    "\n",
    "df = pd.DataFrame(data={'date': data, \n",
    "                        'open': open_price,\n",
    "                        'high': high,\n",
    "                        'low': low,\n",
    "                        'close': close, \n",
    "                        'volume': volume, \n",
    "                        'stock': stock, \n",
    "                        'date_refreshed': date_refreshed})"
   ]
  },
  {
   "cell_type": "code",
   "execution_count": null,
   "metadata": {},
   "outputs": [],
   "source": [
    "df['Average'] = df['close'].rolling(window=3)."
   ]
  },
  {
   "cell_type": "code",
   "execution_count": null,
   "metadata": {},
   "outputs": [],
   "source": []
  }
 ],
 "metadata": {
  "kernelspec": {
   "display_name": ".venv",
   "language": "python",
   "name": "python3"
  },
  "language_info": {
   "codemirror_mode": {
    "name": "ipython",
    "version": 3
   },
   "file_extension": ".py",
   "mimetype": "text/x-python",
   "name": "python",
   "nbconvert_exporter": "python",
   "pygments_lexer": "ipython3",
   "version": "3.11.9"
  }
 },
 "nbformat": 4,
 "nbformat_minor": 2
}
